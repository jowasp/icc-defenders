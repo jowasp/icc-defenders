{
 "cells": [
  {
   "cell_type": "code",
   "execution_count": 5,
   "metadata": {},
   "outputs": [
    {
     "name": "stdout",
     "output_type": "stream",
     "text": [
      "{'Marcus BRODY'} {'PERSON'}\n",
      "{'15 years old'} {'DATE'}\n",
      "{'late 2002'} {'DATE'}\n",
      "{'Goma'} {'GPE'}\n",
      "{'one night'} {'TIME'}\n",
      "{'Goma'} {'GPE'}\n",
      "{'Congo'} {'GPE'}\n",
      "{'one'} {'CARDINAL'}\n",
      "{'ten years old'} {'DATE'}\n",
      "{'Rebels'} {'ORG'}\n",
      "Here are the things I know about name:\n",
      "{15 years old}\n",
      "{around ten years old then.  \n",
      "}\n"
     ]
    }
   ],
   "source": [
    "import spacy\n",
    "import textacy.extract\n",
    "# Load the large English NLP model\n",
    "nlp = spacy.load('en_core_web_lg')\n",
    "\n",
    "# The text we want to examine\n",
    "text=\"\"\"\"My name is Marcus BRODY. I am 15 years old. In late 2002, I can’t remember exactly when, there was a lot of fighting in Goma, where I was living with my cousins.  \n",
    "My parents and sisters were already killed by the Rebels.  They had attacked our village one night with guns and grenades.I went to a rally in Goma where several Government commanders spoke and said that the President and the DCP were defending Congo.  I remember one of the commanders who spoke was Chief KOBONO, because everyone cheered when he got up to speak.  There were many soldiers at the rally, about the same as the number of children in my school .  Each family had to contribute, a cow or a goat or a child.  I was around ten years old then.  \n",
    "My aunt said I should go, since my family was dead because of the Rebels.  \n",
    "I followed the DCP soldiers.\"\"\"\n",
    "#import text file\n",
    "#witness_file = open('witness_text_clean.txt','r')\n",
    "#text_witness = \"\"\n",
    "#text_witness = witness_file.read() \n",
    "#if text_witness != \"\":\n",
    "#   text = text_witness\n",
    "\n",
    "#load spacy model\n",
    "#nlp = spacy.load('model')\n",
    "nlp = spacy.load('en_core_web_lg')\n",
    "#doc = nlp(text_witness)\n",
    "# Parse the text with spaCy. This runs the entire pipeline.\n",
    "doc = nlp(text)\n",
    "\n",
    "# 'doc' now contains a parsed version of text. We can use it to do anything we want!\n",
    "# For example, this will print out all the named entities that were detected:\n",
    "for entity in doc.ents:\n",
    "    print({entity.text}, {entity.label_})\n",
    "    \n",
    "# Extract semi-structured statements\n",
    "statements = textacy.extract.semistructured_statements(doc, \"I\")\n",
    "\n",
    "# Print the results\n",
    "print(\"Here are the things I know about name:\")\n",
    "\n",
    "for statement in statements:\n",
    "    subject, verb, fact = statement\n",
    "    print({fact})"
   ]
  },
  {
   "cell_type": "code",
   "execution_count": null,
   "metadata": {},
   "outputs": [],
   "source": []
  },
  {
   "cell_type": "code",
   "execution_count": null,
   "metadata": {},
   "outputs": [],
   "source": []
  }
 ],
 "metadata": {
  "kernelspec": {
   "display_name": "Python 3",
   "language": "python",
   "name": "python3"
  },
  "language_info": {
   "codemirror_mode": {
    "name": "ipython",
    "version": 3
   },
   "file_extension": ".py",
   "mimetype": "text/x-python",
   "name": "python",
   "nbconvert_exporter": "python",
   "pygments_lexer": "ipython3",
   "version": "3.5.6"
  }
 },
 "nbformat": 4,
 "nbformat_minor": 2
}
